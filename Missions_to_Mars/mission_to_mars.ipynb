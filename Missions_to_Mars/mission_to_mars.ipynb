{
 "cells": [
  {
   "cell_type": "code",
   "execution_count": 36,
   "metadata": {},
   "outputs": [
    {
     "name": "stdout",
     "output_type": "stream",
     "text": [
      "Collecting flask_pymongo\n",
      "  Downloading Flask_PyMongo-2.3.0-py2.py3-none-any.whl (12 kB)\n",
      "Requirement already satisfied: PyMongo>=3.3 in c:\\users\\samue\\miniconda3\\envs\\pythondata\\lib\\site-packages (from flask_pymongo) (3.11.0)\n",
      "Requirement already satisfied: Flask>=0.11 in c:\\users\\samue\\miniconda3\\envs\\pythondata\\lib\\site-packages (from flask_pymongo) (1.1.2)\n",
      "Requirement already satisfied: Werkzeug>=0.15 in c:\\users\\samue\\miniconda3\\envs\\pythondata\\lib\\site-packages (from Flask>=0.11->flask_pymongo) (1.0.1)\n",
      "Requirement already satisfied: Jinja2>=2.10.1 in c:\\users\\samue\\miniconda3\\envs\\pythondata\\lib\\site-packages (from Flask>=0.11->flask_pymongo) (2.11.2)\n",
      "Requirement already satisfied: click>=5.1 in c:\\users\\samue\\miniconda3\\envs\\pythondata\\lib\\site-packages (from Flask>=0.11->flask_pymongo) (7.1.2)\n",
      "Requirement already satisfied: itsdangerous>=0.24 in c:\\users\\samue\\miniconda3\\envs\\pythondata\\lib\\site-packages (from Flask>=0.11->flask_pymongo) (1.1.0)\n",
      "Requirement already satisfied: MarkupSafe>=0.23 in c:\\users\\samue\\miniconda3\\envs\\pythondata\\lib\\site-packages (from Jinja2>=2.10.1->Flask>=0.11->flask_pymongo) (1.1.1)\n",
      "Installing collected packages: flask-pymongo\n",
      "Successfully installed flask-pymongo-2.3.0\n"
     ]
    }
   ],
   "source": [
    "!pip install flask_pymongo"
   ]
  },
  {
   "cell_type": "code",
   "execution_count": 16,
   "metadata": {
    "scrolled": true
   },
   "outputs": [],
   "source": [
    "#Importing dependencies\n",
    "import pandas as pd\n",
    "from splinter import Browser\n",
    "from bs4 import BeautifulSoup as bs\n",
    "from webdriver_manager.chrome import ChromeDriverManager\n",
    "from selenium import webdriver\n",
    "import pymongo\n",
    "import requests\n",
    "import time\n",
    "# from IPython.display import Image\n",
    "# import shutil\n"
   ]
  },
  {
   "cell_type": "code",
   "execution_count": 6,
   "metadata": {},
   "outputs": [
    {
     "name": "stderr",
     "output_type": "stream",
     "text": [
      "[WDM] - Current google-chrome version is 86.0.4240\n",
      "[WDM] - Get LATEST driver version for 86.0.4240\n",
      "[WDM] - Driver [C:\\Users\\samue\\.wdm\\drivers\\chromedriver\\win32\\86.0.4240.22\\chromedriver.exe] found in cache\n"
     ]
    },
    {
     "name": "stdout",
     "output_type": "stream",
     "text": [
      " \n"
     ]
    }
   ],
   "source": [
    "executable_path = {'executable_path': ChromeDriverManager().install()}\n",
    "browser = Browser('chrome', **executable_path, headless=False)"
   ]
  },
  {
   "cell_type": "code",
   "execution_count": 7,
   "metadata": {},
   "outputs": [],
   "source": [
    "#going to nasa new site to scape title and paragrapgh\n",
    "url = 'https://mars.nasa.gov/news/'\n",
    "browser.visit(url)\n",
    "html = browser.html\n",
    "\n",
    "#sleep broswer for 1 sec to give time to collect html\n",
    "time.sleep(1)\n",
    "\n",
    "soup = bs(html, 'lxml')\n",
    "# print(soup.prettify())"
   ]
  },
  {
   "cell_type": "code",
   "execution_count": 8,
   "metadata": {},
   "outputs": [],
   "source": [
    "#selecting slide item  to later use to extract news title and paragraph\n",
    "slide_elem = soup.select_one(\"ul.item_list li.slide\")\n"
   ]
  },
  {
   "cell_type": "code",
   "execution_count": 9,
   "metadata": {},
   "outputs": [
    {
     "name": "stdout",
     "output_type": "stream",
     "text": [
      "Mars Is Getting a New Robotic Meteorologist\n",
      "Sensors on NASA's Perseverance will help prepare for future human exploration by taking weather measurements and studying dust particles.\n"
     ]
    }
   ],
   "source": [
    "# get the title and paragraph that went with it, then print\n",
    "\n",
    "tl = slide_elem.find(\"div\", class_=\"content_title\").get_text()\n",
    "p = slide_elem.find(\"div\", class_=\"article_teaser_body\").get_text()\n",
    "\n",
    "print(tl)\n",
    "print(p)"
   ]
  },
  {
   "cell_type": "code",
   "execution_count": 10,
   "metadata": {},
   "outputs": [],
   "source": [
    "# visiting site to collect image for articles\n",
    "url = \"https://www.jpl.nasa.gov/spaceimages/details.php?id=PIA22109\"\n",
    "browser.visit(url)\n",
    "html = browser.html\n",
    "soup = bs(html, \"lxml\")"
   ]
  },
  {
   "cell_type": "code",
   "execution_count": 20,
   "metadata": {},
   "outputs": [
    {
     "data": {
      "text/html": [
       "<img src=\"feature_image_url.png\"/>"
      ],
      "text/plain": [
       "<IPython.core.display.Image object>"
      ]
     },
     "execution_count": 20,
     "metadata": {},
     "output_type": "execute_result"
    }
   ],
   "source": [
    "# extract img url from site\n",
    "image = soup.find_all(\"div\", class_=\"img\")[0].img[\"src\"]\n",
    "f_image_url = f'https://www.jpl.nasa.gov{image}'\n",
    "\n",
    "print(f_image_url)"
   ]
  },
  {
   "cell_type": "code",
   "execution_count": 10,
   "metadata": {},
   "outputs": [
    {
     "data": {
      "text/html": [
       "<div>\n",
       "<style scoped>\n",
       "    .dataframe tbody tr th:only-of-type {\n",
       "        vertical-align: middle;\n",
       "    }\n",
       "\n",
       "    .dataframe tbody tr th {\n",
       "        vertical-align: top;\n",
       "    }\n",
       "\n",
       "    .dataframe thead th {\n",
       "        text-align: right;\n",
       "    }\n",
       "</style>\n",
       "<table border=\"1\" class=\"dataframe\">\n",
       "  <thead>\n",
       "    <tr style=\"text-align: right;\">\n",
       "      <th></th>\n",
       "      <th>Equatorial Diameter:</th>\n",
       "      <th>Polar Diameter:</th>\n",
       "      <th>Mass:</th>\n",
       "      <th>Moons:</th>\n",
       "      <th>Orbit Distance:</th>\n",
       "      <th>Orbit Period:</th>\n",
       "      <th>Surface Temperature:</th>\n",
       "      <th>First Record:</th>\n",
       "      <th>Recorded By:</th>\n",
       "    </tr>\n",
       "  </thead>\n",
       "  <tbody>\n",
       "    <tr>\n",
       "      <th>1</th>\n",
       "      <td>6,792 km</td>\n",
       "      <td>6,752 km</td>\n",
       "      <td>6.39 × 10^23 kg (0.11 Earths)</td>\n",
       "      <td>2 (Phobos &amp; Deimos)</td>\n",
       "      <td>227,943,824 km (1.38 AU)</td>\n",
       "      <td>687 days (1.9 years)</td>\n",
       "      <td>-87 to -5 °C</td>\n",
       "      <td>2nd millennium BC</td>\n",
       "      <td>Egyptian astronomers</td>\n",
       "    </tr>\n",
       "  </tbody>\n",
       "</table>\n",
       "</div>"
      ],
      "text/plain": [
       "0 Equatorial Diameter: Polar Diameter:                          Mass:  \\\n",
       "1             6,792 km        6,752 km  6.39 × 10^23 kg (0.11 Earths)   \n",
       "\n",
       "0               Moons:           Orbit Distance:         Orbit Period:  \\\n",
       "1  2 (Phobos & Deimos)  227,943,824 km (1.38 AU)  687 days (1.9 years)   \n",
       "\n",
       "0 Surface Temperature:      First Record:          Recorded By:  \n",
       "1         -87 to -5 °C  2nd millennium BC  Egyptian astronomers  "
      ]
     },
     "execution_count": 10,
     "metadata": {},
     "output_type": "execute_result"
    }
   ],
   "source": [
    "# extract the mars fact\n",
    "url = \"https://space-facts.com/mars/\"\n",
    "table = pd.read_html(url)\n",
    "\n",
    "#putting into data frame and transposing \n",
    "table = table[0].set_index(0).T\n",
    "\n",
    "# showing results in data frame\n",
    "table"
   ]
  },
  {
   "cell_type": "code",
   "execution_count": 11,
   "metadata": {},
   "outputs": [
    {
     "name": "stdout",
     "output_type": "stream",
     "text": [
      "<table border=\"1\" class=\"dataframe\">\n",
      "  <thead>\n",
      "    <tr style=\"text-align: right;\">\n",
      "      <th></th>\n",
      "      <th>Equatorial Diameter:</th>\n",
      "      <th>Polar Diameter:</th>\n",
      "      <th>Mass:</th>\n",
      "      <th>Moons:</th>\n",
      "      <th>Orbit Distance:</th>\n",
      "      <th>Orbit Period:</th>\n",
      "      <th>Surface Temperature:</th>\n",
      "      <th>First Record:</th>\n",
      "      <th>Recorded By:</th>\n",
      "    </tr>\n",
      "  </thead>\n",
      "  <tbody>\n",
      "    <tr>\n",
      "      <th>1</th>\n",
      "      <td>6,792 km</td>\n",
      "      <td>6,752 km</td>\n",
      "      <td>6.39 × 10^23 kg (0.11 Earths)</td>\n",
      "      <td>2 (Phobos &amp; Deimos)</td>\n",
      "      <td>227,943,824 km (1.38 AU)</td>\n",
      "      <td>687 days (1.9 years)</td>\n",
      "      <td>-87 to -5 °C</td>\n",
      "      <td>2nd millennium BC</td>\n",
      "      <td>Egyptian astronomers</td>\n",
      "    </tr>\n",
      "  </tbody>\n",
      "</table>\n"
     ]
    }
   ],
   "source": [
    "# turning data frame into html table \n",
    "mars_info = table.to_html()\n",
    "print(mars_info)"
   ]
  },
  {
   "cell_type": "code",
   "execution_count": 12,
   "metadata": {},
   "outputs": [],
   "source": [
    "#using web driver to visit website to get hemisphere images and titles\n",
    "url = \"https://astrogeology.usgs.gov/search/results?q=hemisphere+enhanced&k1=target&v1=Mars\"\n",
    "browser.visit(url)\n",
    "html = browser.html\n",
    "soup = bs(html, \"lxml\")"
   ]
  },
  {
   "cell_type": "code",
   "execution_count": 13,
   "metadata": {},
   "outputs": [
    {
     "name": "stderr",
     "output_type": "stream",
     "text": [
      "C:\\Users\\samue\\Miniconda3\\envs\\pythondata\\lib\\site-packages\\splinter\\driver\\webdriver\\__init__.py:490: FutureWarning: browser.find_link_by_partial_text is deprecated. Use browser.links.find_by_partial_text instead.\n",
      "  warnings.warn(\n"
     ]
    },
    {
     "data": {
      "text/plain": [
       "[{'title': 'Cerberus Hemisphere Enhanced',\n",
       "  'img_url': 'https://astropedia.astrogeology.usgs.gov/download/Mars/Viking/cerberus_enhanced.tif/full.jpg'},\n",
       " {'title': 'Schiaparelli Hemisphere Enhanced',\n",
       "  'img_url': 'https://astropedia.astrogeology.usgs.gov/download/Mars/Viking/schiaparelli_enhanced.tif/full.jpg'},\n",
       " {'title': 'Syrtis Major Hemisphere Enhanced',\n",
       "  'img_url': 'https://astropedia.astrogeology.usgs.gov/download/Mars/Viking/syrtis_major_enhanced.tif/full.jpg'},\n",
       " {'title': 'Valles Marineris Hemisphere Enhanced',\n",
       "  'img_url': 'https://astropedia.astrogeology.usgs.gov/download/Mars/Viking/valles_marineris_enhanced.tif/full.jpg'}]"
      ]
     },
     "execution_count": 13,
     "metadata": {},
     "output_type": "execute_result"
    }
   ],
   "source": [
    "\n",
    "# loop through the links and add the urls\n",
    "h_imgs = []\n",
    "\n",
    "ht = soup.find_all(\"h3\")\n",
    "\n",
    "for t in ht:\n",
    "    \n",
    "    #creating dict to hold titles and urls \n",
    "    h_dict = {}\n",
    "    title = t.text.strip()\n",
    "    browser.click_link_by_partial_text(title)\n",
    "    \n",
    "    #adding to dict and making a list of dicts\n",
    "    h_dict[\"title\"] = title\n",
    "    h_dict[\"img_url\"] = browser.find_by_text(\"Sample\")[\"href\"]\n",
    "    h_imgs.append(h_dict)\n",
    "    \n",
    "    # return to web page\n",
    "    browser.visit(url)\n",
    "    \n",
    "h_imgs\n",
    "\n"
   ]
  },
  {
   "cell_type": "code",
   "execution_count": 14,
   "metadata": {},
   "outputs": [
    {
     "data": {
      "text/plain": [
       "{'tl': 'Mars Is Getting a New Robotic Meteorologist',\n",
       " 'p': \"Sensors on NASA's Perseverance will help prepare for future human exploration by taking weather measurements and studying dust particles.\",\n",
       " 'f_image_url': 'https://www.jpl.nasa.gov/spaceimages/images/wallpaper/PIA22110-640x350.jpg',\n",
       " 'mars_info': '<table border=\"1\" class=\"dataframe\">\\n  <thead>\\n    <tr style=\"text-align: right;\">\\n      <th></th>\\n      <th>Equatorial Diameter:</th>\\n      <th>Polar Diameter:</th>\\n      <th>Mass:</th>\\n      <th>Moons:</th>\\n      <th>Orbit Distance:</th>\\n      <th>Orbit Period:</th>\\n      <th>Surface Temperature:</th>\\n      <th>First Record:</th>\\n      <th>Recorded By:</th>\\n    </tr>\\n  </thead>\\n  <tbody>\\n    <tr>\\n      <th>1</th>\\n      <td>6,792 km</td>\\n      <td>6,752 km</td>\\n      <td>6.39 × 10^23 kg (0.11 Earths)</td>\\n      <td>2 (Phobos &amp; Deimos)</td>\\n      <td>227,943,824 km (1.38 AU)</td>\\n      <td>687 days (1.9 years)</td>\\n      <td>-87 to -5 °C</td>\\n      <td>2nd millennium BC</td>\\n      <td>Egyptian astronomers</td>\\n    </tr>\\n  </tbody>\\n</table>',\n",
       " 'h_imgs': [{'title': 'Cerberus Hemisphere Enhanced',\n",
       "   'img_url': 'https://astropedia.astrogeology.usgs.gov/download/Mars/Viking/cerberus_enhanced.tif/full.jpg'},\n",
       "  {'title': 'Schiaparelli Hemisphere Enhanced',\n",
       "   'img_url': 'https://astropedia.astrogeology.usgs.gov/download/Mars/Viking/schiaparelli_enhanced.tif/full.jpg'},\n",
       "  {'title': 'Syrtis Major Hemisphere Enhanced',\n",
       "   'img_url': 'https://astropedia.astrogeology.usgs.gov/download/Mars/Viking/syrtis_major_enhanced.tif/full.jpg'},\n",
       "  {'title': 'Valles Marineris Hemisphere Enhanced',\n",
       "   'img_url': 'https://astropedia.astrogeology.usgs.gov/download/Mars/Viking/valles_marineris_enhanced.tif/full.jpg'}]}"
      ]
     },
     "execution_count": 14,
     "metadata": {},
     "output_type": "execute_result"
    }
   ],
   "source": [
    "mars_data = {}\n",
    "\n",
    "mars_data[\"tl\"] = tl\n",
    "mars_data[\"p\"] = p\n",
    "mars_data[\"f_image_url\"] = f_image_url\n",
    "mars_data[\"mars_info\"] = mars_info\n",
    "mars_data[\"h_imgs\"] = h_imgs\n",
    "\n",
    "mars_data"
   ]
  },
  {
   "cell_type": "code",
   "execution_count": null,
   "metadata": {},
   "outputs": [],
   "source": []
  }
 ],
 "metadata": {
  "kernelspec": {
   "display_name": "Python 3",
   "language": "python",
   "name": "python3"
  },
  "language_info": {
   "codemirror_mode": {
    "name": "ipython",
    "version": 3
   },
   "file_extension": ".py",
   "mimetype": "text/x-python",
   "name": "python",
   "nbconvert_exporter": "python",
   "pygments_lexer": "ipython3",
   "version": "3.8.5"
  }
 },
 "nbformat": 4,
 "nbformat_minor": 4
}
